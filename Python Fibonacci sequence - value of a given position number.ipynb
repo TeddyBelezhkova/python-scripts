{
 "cells": [
  {
   "cell_type": "code",
   "execution_count": null,
   "id": "c79a04cd",
   "metadata": {
    "pycharm": {
     "is_executing": true
    }
   },
   "outputs": [],
   "source": [
    "'''\n",
    "Relation:\n",
    "num0 = 0; num1 = 1\n",
    "and\n",
    "numN = (numN-1) + (numN -2)\n",
    "for N>1\n",
    "'''\n",
    "\n",
    "#Checking an exact value in the Fibonacci sequence by its place number\n",
    "\n",
    "def fib(N):\n",
    "    if N == 1:\n",
    "        return [1, 0]\n",
    "    else:\n",
    "        terms = fib(N - 1)\n",
    "        terms = [terms[0] + terms[1], terms[0]]\n",
    "        return terms\n",
    "    \n",
    "#Input that return when a positive integer under 500 is given\n",
    "def validate_positive_integer():\n",
    "    while True:\n",
    "        s = input(\"Which term in the Fibonacci sequence you want to see?\")\n",
    "        try:\n",
    "            N = int(s)\n",
    "            if N >= 500:\n",
    "                print (\"Enter a number smaller than 500.\")\n",
    "            elif N > 0:\n",
    "                return N\n",
    "            else:\n",
    "                print (\"Enter a positive integer.\")\n",
    "        except ValueError:\n",
    "                print (\"Enter a positive integer.\")\n",
    "                \n",
    "def main():\n",
    "    N = validate_positive_integer()\n",
    "    print (fib(N)[1])\n",
    "\n",
    "    \n",
    "if __name__ == \"__main__\":\n",
    "    main()\n",
    "    "
   ]
  },
  {
   "cell_type": "code",
   "execution_count": null,
   "id": "b5f8586a",
   "metadata": {
    "pycharm": {
     "is_executing": true
    }
   },
   "outputs": [],
   "source": []
  },
  {
   "cell_type": "code",
   "execution_count": null,
   "outputs": [],
   "source": [],
   "metadata": {
    "collapsed": false
   }
  }
 ],
 "metadata": {
  "kernelspec": {
   "display_name": "Python 3 (ipykernel)",
   "language": "python",
   "name": "python3"
  },
  "language_info": {
   "codemirror_mode": {
    "name": "ipython",
    "version": 3
   },
   "file_extension": ".py",
   "mimetype": "text/x-python",
   "name": "python",
   "nbconvert_exporter": "python",
   "pygments_lexer": "ipython3",
   "version": "3.10.9"
  }
 },
 "nbformat": 4,
 "nbformat_minor": 5
}
